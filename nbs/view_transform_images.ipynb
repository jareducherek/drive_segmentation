{
 "cells": [
  {
   "cell_type": "code",
   "execution_count": 12,
   "metadata": {},
   "outputs": [],
   "source": [
    "import albumentations as A\n",
    "from retriever import TrainRetriever, get_valid_transforms\n",
    "\n",
    "import numpy as np\n",
    "import torch\n",
    "import cv2\n",
    "import os\n",
    "from pathlib import Path\n",
    "import matplotlib.pyplot as plt"
   ]
  },
  {
   "cell_type": "code",
   "execution_count": 13,
   "metadata": {},
   "outputs": [],
   "source": [
    "height = 512\n",
    "width = 512\n",
    "WH = (width, height)"
   ]
  },
  {
   "cell_type": "code",
   "execution_count": 27,
   "metadata": {},
   "outputs": [],
   "source": [
    "data_path = Path('../../../Datasets/comma10k/')\n",
    "rand = 33 #np.random.choice(range(len(image_names)))\n",
    "target_dir = '../ppt_output/'\n",
    "\n",
    "os.makedirs(target_dir, exist_ok=True)\n",
    "image_names = [x for x in os.listdir(data_path/'imgs') if x.endswith('9.png')]\n",
    "image_name = image_names[rand]\n",
    "cropper = get_valid_transforms(height, width)\n",
    "img = cropper(image=cv2.imread(str(data_path/f'imgs/{image_name}')))['image']"
   ]
  },
  {
   "cell_type": "code",
   "execution_count": 6,
   "metadata": {},
   "outputs": [],
   "source": [
    "def pad_to_multiple(x, k=32):\n",
    "    return int(k*(np.ceil(x/k)))"
   ]
  },
  {
   "cell_type": "code",
   "execution_count": 22,
   "metadata": {},
   "outputs": [],
   "source": [
    "transform_names = ['horizontal_flip', 'gaussian_noise', 'grid_distortion', 'elastic', 'shift_scale_rotate', \n",
    "                   'optical_distortion', 'clahe', 'random_brightness', 'random_gamma', 'iso_noise', 'sharpen',\n",
    "                   'blur', 'motion_blur', 'random_contrast', 'hue_saturation', 'resize', 'cutout', 'pad_if_needed']\n",
    "\n",
    "transforms = [A.HorizontalFlip(p=1.0),\n",
    "              A.IAAAdditiveGaussianNoise(p=1.0),\n",
    "              A.GridDistortion(border_mode=cv2.BORDER_CONSTANT, value=0, mask_value=0, p=1.0),\n",
    "              A.ElasticTransform(alpha_affine=10, border_mode=cv2.BORDER_CONSTANT, value=0, mask_value=0, p=1.0),\n",
    "              A.ShiftScaleRotate(shift_limit=0,\n",
    "                                 scale_limit=0,\n",
    "                                 rotate_limit=10,\n",
    "                                 border_mode=cv2.BORDER_CONSTANT,\n",
    "                                 value=0,\n",
    "                                 mask_value=0,\n",
    "                                 p=1.0),\n",
    "              A.OpticalDistortion(border_mode=cv2.BORDER_CONSTANT, value=0, mask_value=0, p=1.0),\n",
    "              A.CLAHE(p=1.0),\n",
    "              A.RandomBrightness(p=1.0),\n",
    "              A.RandomGamma(p=1.0),\n",
    "              A.ISONoise(p=1.0),\n",
    "              A.IAASharpen(p=1.0),\n",
    "              A.Blur(blur_limit=3, p=1.0),\n",
    "              A.MotionBlur(blur_limit=3, p=1.0),\n",
    "              A.RandomContrast(p=1.0),\n",
    "              A.HueSaturationValue(p=1.0),\n",
    "              A.Resize(height=height, width=width, p=1.0),\n",
    "              A.Cutout(p=1.0),\n",
    "              A.PadIfNeeded(pad_to_multiple(height), \n",
    "                            pad_to_multiple(width), \n",
    "                            border_mode=cv2.BORDER_CONSTANT, \n",
    "                            value=0, \n",
    "                            mask_value=0)\n",
    "             ]"
   ]
  },
  {
   "cell_type": "code",
   "execution_count": 29,
   "metadata": {},
   "outputs": [],
   "source": [
    "cv2.imwrite(os.path.join(target_dir, 'original.png'), img)\n",
    "for name, transform in zip(transform_names, transforms):\n",
    "    new = transform(image=img)['image']\n",
    "    cv2.imwrite(os.path.join(target_dir, f'{name}.png'), new)"
   ]
  }
 ],
 "metadata": {
  "kernelspec": {
   "display_name": "drive_segmentation",
   "language": "python",
   "name": "drive_segmentation"
  },
  "language_info": {
   "codemirror_mode": {
    "name": "ipython",
    "version": 3
   },
   "file_extension": ".py",
   "mimetype": "text/x-python",
   "name": "python",
   "nbconvert_exporter": "python",
   "pygments_lexer": "ipython3",
   "version": "3.8.5"
  }
 },
 "nbformat": 4,
 "nbformat_minor": 4
}
